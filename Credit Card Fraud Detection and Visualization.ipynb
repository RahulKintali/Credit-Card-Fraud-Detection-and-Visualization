{
 "cells": [
  {
   "cell_type": "code",
   "id": "initial_id",
   "metadata": {
    "collapsed": true,
    "ExecuteTime": {
     "end_time": "2025-01-25T22:49:29.968223Z",
     "start_time": "2025-01-25T22:49:17.142050Z"
    }
   },
   "source": [
    "# Install pandas for data manipulation\n",
    "!pip install pandas\n",
    "\n",
    "# Install numpy for numerical operations\n",
    "!pip install numpy\n",
    "\n",
    "# Install matplotlib for data visualization\n",
    "!pip install matplotlib\n",
    "\n",
    "# Install seaborn for advanced visualizations\n",
    "!pip install seaborn\n"
   ],
   "outputs": [
    {
     "name": "stdout",
     "output_type": "stream",
     "text": [
      "Requirement already satisfied: pandas in c:\\users\\rahul\\pycharmmiscproject\\.venv\\lib\\site-packages (2.2.3)\n",
      "Requirement already satisfied: numpy>=1.26.0 in c:\\users\\rahul\\pycharmmiscproject\\.venv\\lib\\site-packages (from pandas) (2.2.2)\n",
      "Requirement already satisfied: python-dateutil>=2.8.2 in c:\\users\\rahul\\pycharmmiscproject\\.venv\\lib\\site-packages (from pandas) (2.9.0.post0)\n",
      "Requirement already satisfied: pytz>=2020.1 in c:\\users\\rahul\\pycharmmiscproject\\.venv\\lib\\site-packages (from pandas) (2024.2)\n",
      "Requirement already satisfied: tzdata>=2022.7 in c:\\users\\rahul\\pycharmmiscproject\\.venv\\lib\\site-packages (from pandas) (2025.1)\n",
      "Requirement already satisfied: six>=1.5 in c:\\users\\rahul\\pycharmmiscproject\\.venv\\lib\\site-packages (from python-dateutil>=2.8.2->pandas) (1.17.0)\n"
     ]
    },
    {
     "name": "stderr",
     "output_type": "stream",
     "text": [
      "\n",
      "[notice] A new release of pip is available: 23.2.1 -> 24.3.1\n",
      "[notice] To update, run: python.exe -m pip install --upgrade pip\n"
     ]
    },
    {
     "name": "stdout",
     "output_type": "stream",
     "text": [
      "Requirement already satisfied: numpy in c:\\users\\rahul\\pycharmmiscproject\\.venv\\lib\\site-packages (2.2.2)\n"
     ]
    },
    {
     "name": "stderr",
     "output_type": "stream",
     "text": [
      "\n",
      "[notice] A new release of pip is available: 23.2.1 -> 24.3.1\n",
      "[notice] To update, run: python.exe -m pip install --upgrade pip\n"
     ]
    },
    {
     "name": "stdout",
     "output_type": "stream",
     "text": [
      "Requirement already satisfied: matplotlib in c:\\users\\rahul\\pycharmmiscproject\\.venv\\lib\\site-packages (3.10.0)\n",
      "Requirement already satisfied: contourpy>=1.0.1 in c:\\users\\rahul\\pycharmmiscproject\\.venv\\lib\\site-packages (from matplotlib) (1.3.1)\n",
      "Requirement already satisfied: cycler>=0.10 in c:\\users\\rahul\\pycharmmiscproject\\.venv\\lib\\site-packages (from matplotlib) (0.12.1)\n",
      "Requirement already satisfied: fonttools>=4.22.0 in c:\\users\\rahul\\pycharmmiscproject\\.venv\\lib\\site-packages (from matplotlib) (4.55.6)\n",
      "Requirement already satisfied: kiwisolver>=1.3.1 in c:\\users\\rahul\\pycharmmiscproject\\.venv\\lib\\site-packages (from matplotlib) (1.4.8)\n",
      "Requirement already satisfied: numpy>=1.23 in c:\\users\\rahul\\pycharmmiscproject\\.venv\\lib\\site-packages (from matplotlib) (2.2.2)\n",
      "Requirement already satisfied: packaging>=20.0 in c:\\users\\rahul\\pycharmmiscproject\\.venv\\lib\\site-packages (from matplotlib) (24.2)\n",
      "Requirement already satisfied: pillow>=8 in c:\\users\\rahul\\pycharmmiscproject\\.venv\\lib\\site-packages (from matplotlib) (11.1.0)\n",
      "Requirement already satisfied: pyparsing>=2.3.1 in c:\\users\\rahul\\pycharmmiscproject\\.venv\\lib\\site-packages (from matplotlib) (3.2.1)\n",
      "Requirement already satisfied: python-dateutil>=2.7 in c:\\users\\rahul\\pycharmmiscproject\\.venv\\lib\\site-packages (from matplotlib) (2.9.0.post0)\n",
      "Requirement already satisfied: six>=1.5 in c:\\users\\rahul\\pycharmmiscproject\\.venv\\lib\\site-packages (from python-dateutil>=2.7->matplotlib) (1.17.0)\n"
     ]
    },
    {
     "name": "stderr",
     "output_type": "stream",
     "text": [
      "\n",
      "[notice] A new release of pip is available: 23.2.1 -> 24.3.1\n",
      "[notice] To update, run: python.exe -m pip install --upgrade pip\n"
     ]
    },
    {
     "name": "stdout",
     "output_type": "stream",
     "text": [
      "Requirement already satisfied: seaborn in c:\\users\\rahul\\pycharmmiscproject\\.venv\\lib\\site-packages (0.13.2)\n",
      "Requirement already satisfied: numpy!=1.24.0,>=1.20 in c:\\users\\rahul\\pycharmmiscproject\\.venv\\lib\\site-packages (from seaborn) (2.2.2)\n",
      "Requirement already satisfied: pandas>=1.2 in c:\\users\\rahul\\pycharmmiscproject\\.venv\\lib\\site-packages (from seaborn) (2.2.3)\n",
      "Requirement already satisfied: matplotlib!=3.6.1,>=3.4 in c:\\users\\rahul\\pycharmmiscproject\\.venv\\lib\\site-packages (from seaborn) (3.10.0)\n",
      "Requirement already satisfied: contourpy>=1.0.1 in c:\\users\\rahul\\pycharmmiscproject\\.venv\\lib\\site-packages (from matplotlib!=3.6.1,>=3.4->seaborn) (1.3.1)\n",
      "Requirement already satisfied: cycler>=0.10 in c:\\users\\rahul\\pycharmmiscproject\\.venv\\lib\\site-packages (from matplotlib!=3.6.1,>=3.4->seaborn) (0.12.1)\n",
      "Requirement already satisfied: fonttools>=4.22.0 in c:\\users\\rahul\\pycharmmiscproject\\.venv\\lib\\site-packages (from matplotlib!=3.6.1,>=3.4->seaborn) (4.55.6)\n",
      "Requirement already satisfied: kiwisolver>=1.3.1 in c:\\users\\rahul\\pycharmmiscproject\\.venv\\lib\\site-packages (from matplotlib!=3.6.1,>=3.4->seaborn) (1.4.8)\n",
      "Requirement already satisfied: packaging>=20.0 in c:\\users\\rahul\\pycharmmiscproject\\.venv\\lib\\site-packages (from matplotlib!=3.6.1,>=3.4->seaborn) (24.2)\n",
      "Requirement already satisfied: pillow>=8 in c:\\users\\rahul\\pycharmmiscproject\\.venv\\lib\\site-packages (from matplotlib!=3.6.1,>=3.4->seaborn) (11.1.0)\n",
      "Requirement already satisfied: pyparsing>=2.3.1 in c:\\users\\rahul\\pycharmmiscproject\\.venv\\lib\\site-packages (from matplotlib!=3.6.1,>=3.4->seaborn) (3.2.1)\n",
      "Requirement already satisfied: python-dateutil>=2.7 in c:\\users\\rahul\\pycharmmiscproject\\.venv\\lib\\site-packages (from matplotlib!=3.6.1,>=3.4->seaborn) (2.9.0.post0)\n",
      "Requirement already satisfied: pytz>=2020.1 in c:\\users\\rahul\\pycharmmiscproject\\.venv\\lib\\site-packages (from pandas>=1.2->seaborn) (2024.2)\n",
      "Requirement already satisfied: tzdata>=2022.7 in c:\\users\\rahul\\pycharmmiscproject\\.venv\\lib\\site-packages (from pandas>=1.2->seaborn) (2025.1)\n",
      "Requirement already satisfied: six>=1.5 in c:\\users\\rahul\\pycharmmiscproject\\.venv\\lib\\site-packages (from python-dateutil>=2.7->matplotlib!=3.6.1,>=3.4->seaborn) (1.17.0)\n"
     ]
    },
    {
     "name": "stderr",
     "output_type": "stream",
     "text": [
      "\n",
      "[notice] A new release of pip is available: 23.2.1 -> 24.3.1\n",
      "[notice] To update, run: python.exe -m pip install --upgrade pip\n"
     ]
    }
   ],
   "execution_count": 120
  },
  {
   "metadata": {
    "ExecuteTime": {
     "end_time": "2025-01-25T22:49:30.024218Z",
     "start_time": "2025-01-25T22:49:30.012374Z"
    }
   },
   "cell_type": "code",
   "source": [
    "import pandas as pd\n",
    "import numpy as np\n",
    "import matplotlib.pyplot as plt\n",
    "import seaborn as sns\n",
    "\n",
    "print(\"Libraries installed successfully!\")\n"
   ],
   "id": "65ab14b34817d4ec",
   "outputs": [
    {
     "name": "stdout",
     "output_type": "stream",
     "text": [
      "Libraries installed successfully!\n"
     ]
    }
   ],
   "execution_count": 121
  },
  {
   "metadata": {
    "ExecuteTime": {
     "end_time": "2025-01-25T22:49:30.329356Z",
     "start_time": "2025-01-25T22:49:30.080795Z"
    }
   },
   "cell_type": "code",
   "source": [
    "# Load the dataset\n",
    "import pandas as pd\n",
    "\n",
    "# Provide the correct file path to the CSV\n",
    "file_path = r'C:\\Users\\rahul\\PyCharmMiscProject\\.venv\\CreditCardData.csv'\n",
    "\n",
    "try:\n",
    "    # Load the dataset\n",
    "    data = pd.read_csv(file_path)  # Replace with your dataset path\n",
    "\n",
    "    # View the first few rows\n",
    "    print(data.head())\n",
    "\n",
    "except PermissionError:\n",
    "    print(f\"Permission denied: Unable to access the file at {file_path}.\")\n",
    "except FileNotFoundError:\n",
    "    print(f\"The file does not exist at the specified path: {file_path}.\")\n",
    "except Exception as e:\n",
    "    print(f\"An error occurred: {str(e)}\")\n",
    "\n"
   ],
   "id": "62245e15dfce18e6",
   "outputs": [
    {
     "name": "stdout",
     "output_type": "stream",
     "text": [
      "  Transaction ID       Date Day of Week  Time Type of Card Entry Mode Amount  \\\n",
      "0      #3577 209  14-Oct-20   Wednesday    19         Visa        Tap     £5   \n",
      "1      #3039 221  14-Oct-20   Wednesday    17   MasterCard        PIN   £288   \n",
      "2      #2694 780  14-Oct-20   Wednesday    14         Visa        Tap     £5   \n",
      "3      #2640 960  13-Oct-20     Tuesday    14         Visa        Tap    £28   \n",
      "4      #2771 031  13-Oct-20     Tuesday    23         Visa        CVC    £91   \n",
      "\n",
      "  Type of Transaction Merchant Group Country of Transaction Shipping Address  \\\n",
      "0                 POS  Entertainment         United Kingdom   United Kingdom   \n",
      "1                 POS       Services                    USA              USA   \n",
      "2                 POS     Restaurant                  India            India   \n",
      "3                 POS  Entertainment         United Kingdom            India   \n",
      "4              Online    Electronics                    USA              USA   \n",
      "\n",
      "  Country of Residence Gender   Age      Bank  Fraud  \n",
      "0       United Kingdom      M  25.2       RBS      0  \n",
      "1                  USA      F  49.6    Lloyds      0  \n",
      "2                India      F  42.2  Barclays      0  \n",
      "3       United Kingdom      F  51.0  Barclays      0  \n",
      "4       United Kingdom      M  38.0   Halifax      1  \n"
     ]
    }
   ],
   "execution_count": 122
  },
  {
   "metadata": {
    "ExecuteTime": {
     "end_time": "2025-01-25T22:49:30.378615Z",
     "start_time": "2025-01-25T22:49:30.369063Z"
    }
   },
   "cell_type": "code",
   "source": [
    "columns = data.columns\n",
    "print(\"Columns in the dataset:\")\n",
    "print(columns)\n"
   ],
   "id": "35b8fb118e194f80",
   "outputs": [
    {
     "name": "stdout",
     "output_type": "stream",
     "text": [
      "Columns in the dataset:\n",
      "Index(['Transaction ID', 'Date', 'Day of Week', 'Time', 'Type of Card',\n",
      "       'Entry Mode', 'Amount', 'Type of Transaction', 'Merchant Group',\n",
      "       'Country of Transaction', 'Shipping Address', 'Country of Residence',\n",
      "       'Gender', 'Age', 'Bank', 'Fraud'],\n",
      "      dtype='object')\n"
     ]
    }
   ],
   "execution_count": 123
  },
  {
   "metadata": {
    "ExecuteTime": {
     "end_time": "2025-01-25T22:49:30.573029Z",
     "start_time": "2025-01-25T22:49:30.410305Z"
    }
   },
   "cell_type": "code",
   "source": [
    "import pandas as pd\n",
    "\n",
    "# Display the first few rows of the Amount column\n",
    "print(data['Amount'].head())\n",
    "\n",
    "# Remove the '£' symbol and any spaces, then convert to numeric\n",
    "data['Amount'] = data['Amount'].str.replace('£', '').str.strip()\n",
    "\n",
    "# Convert the cleaned 'Amount' column to numeric\n",
    "data['Amount'] = pd.to_numeric(data['Amount'], errors='coerce')\n",
    "\n",
    "# Verify the changes\n",
    "print(data['Amount'].head())\n",
    "print(data.info())\n"
   ],
   "id": "7731d584aed61da8",
   "outputs": [
    {
     "name": "stdout",
     "output_type": "stream",
     "text": [
      "0      £5\n",
      "1    £288\n",
      "2      £5\n",
      "3     £28\n",
      "4     £91\n",
      "Name: Amount, dtype: object\n",
      "0      5.0\n",
      "1    288.0\n",
      "2      5.0\n",
      "3     28.0\n",
      "4     91.0\n",
      "Name: Amount, dtype: float64\n",
      "<class 'pandas.core.frame.DataFrame'>\n",
      "RangeIndex: 100000 entries, 0 to 99999\n",
      "Data columns (total 16 columns):\n",
      " #   Column                  Non-Null Count   Dtype  \n",
      "---  ------                  --------------   -----  \n",
      " 0   Transaction ID          100000 non-null  object \n",
      " 1   Date                    100000 non-null  object \n",
      " 2   Day of Week             100000 non-null  object \n",
      " 3   Time                    100000 non-null  int64  \n",
      " 4   Type of Card            100000 non-null  object \n",
      " 5   Entry Mode              100000 non-null  object \n",
      " 6   Amount                  99994 non-null   float64\n",
      " 7   Type of Transaction     100000 non-null  object \n",
      " 8   Merchant Group          99990 non-null   object \n",
      " 9   Country of Transaction  100000 non-null  object \n",
      " 10  Shipping Address        99995 non-null   object \n",
      " 11  Country of Residence    100000 non-null  object \n",
      " 12  Gender                  99996 non-null   object \n",
      " 13  Age                     100000 non-null  float64\n",
      " 14  Bank                    100000 non-null  object \n",
      " 15  Fraud                   100000 non-null  int64  \n",
      "dtypes: float64(2), int64(2), object(12)\n",
      "memory usage: 12.2+ MB\n",
      "None\n"
     ]
    }
   ],
   "execution_count": 124
  },
  {
   "metadata": {
    "ExecuteTime": {
     "end_time": "2025-01-25T22:49:30.657122Z",
     "start_time": "2025-01-25T22:49:30.637648Z"
    }
   },
   "cell_type": "code",
   "source": [
    "# Calculate Z-scores for the 'Amount' column\n",
    "data['Z_Score'] = (data['Amount'] - data['Amount'].mean()) / data['Amount'].std()\n",
    "\n",
    "# Identify outliers (absolute Z_Score > 3)\n",
    "outliers = data[data['Z_Score'].abs() > 3]\n",
    "\n",
    "# Save outliers to a CSV for review\n",
    "outliers.to_csv('outliers.csv', index=False)\n",
    "\n",
    "# Display outliers\n",
    "print(f\"Number of outliers detected: {len(outliers)}\")\n",
    "print(outliers)\n"
   ],
   "id": "28e6463f0827c387",
   "outputs": [
    {
     "name": "stdout",
     "output_type": "stream",
     "text": [
      "Number of outliers detected: 0\n",
      "Empty DataFrame\n",
      "Columns: [Transaction ID, Date, Day of Week, Time, Type of Card, Entry Mode, Amount, Type of Transaction, Merchant Group, Country of Transaction, Shipping Address, Country of Residence, Gender, Age, Bank, Fraud, Z_Score]\n",
      "Index: []\n"
     ]
    }
   ],
   "execution_count": 125
  },
  {
   "metadata": {
    "ExecuteTime": {
     "end_time": "2025-01-25T22:49:30.789162Z",
     "start_time": "2025-01-25T22:49:30.738299Z"
    }
   },
   "cell_type": "code",
   "source": [
    "# Convert 'Date' column to datetime\n",
    "data['Date'] = pd.to_datetime(data['Date'], errors='coerce')\n",
    "\n",
    "# Check for any null values after conversion (indicating invalid dates)\n",
    "print(data['Date'].isnull().sum())\n",
    "\n",
    "# Drop rows with invalid dates, if necessary\n",
    "data = data.dropna(subset=['Date'])\n",
    "\n",
    "# Verify the conversion\n",
    "print(data['Date'].head())\n"
   ],
   "id": "21ff42b1c8e45bfa",
   "outputs": [
    {
     "name": "stdout",
     "output_type": "stream",
     "text": [
      "0\n",
      "0   2020-10-14\n",
      "1   2020-10-14\n",
      "2   2020-10-14\n",
      "3   2020-10-13\n",
      "4   2020-10-13\n",
      "Name: Date, dtype: datetime64[ns]\n"
     ]
    },
    {
     "name": "stderr",
     "output_type": "stream",
     "text": [
      "C:\\Users\\rahul\\AppData\\Local\\Temp\\ipykernel_3860\\1980098622.py:2: UserWarning: Could not infer format, so each element will be parsed individually, falling back to `dateutil`. To ensure parsing is consistent and as-expected, please specify a format.\n",
      "  data['Date'] = pd.to_datetime(data['Date'], errors='coerce')\n"
     ]
    }
   ],
   "execution_count": 126
  },
  {
   "metadata": {
    "ExecuteTime": {
     "end_time": "2025-01-25T22:49:31.034417Z",
     "start_time": "2025-01-25T22:49:30.840371Z"
    }
   },
   "cell_type": "code",
   "source": [
    "# Aggregate data by day\n",
    "daily_transactions = data.groupby(data['Date'].dt.date)['Amount'].sum()\n",
    "\n",
    "# Plot daily transaction trends\n",
    "import matplotlib.pyplot as plt\n",
    "\n",
    "plt.figure(figsize=(12, 6))\n",
    "daily_transactions.plot(kind='line', title='Daily Transaction Amount')\n",
    "plt.xlabel('Date')\n",
    "plt.ylabel('Total Amount')\n",
    "plt.grid()\n",
    "plt.show()\n"
   ],
   "id": "4a880ada58ab46d9",
   "outputs": [
    {
     "data": {
      "text/plain": [
       "<Figure size 1200x600 with 1 Axes>"
      ],
      "image/png": "[encoded data removed]"
     },
     "metadata": {},
     "output_type": "display_data"
    }
   ],
   "execution_count": 127
  },
  {
   "metadata": {
    "ExecuteTime": {
     "end_time": "2025-01-25T22:49:31.226388Z",
     "start_time": "2025-01-25T22:49:31.096984Z"
    }
   },
   "cell_type": "code",
   "source": [
    "# Bar plot for total amount by type of card\n",
    "category_totals = data.groupby('Type of Card')['Amount'].sum().sort_values(ascending=False)\n",
    "\n",
    "plt.figure(figsize=(10, 6))\n",
    "category_totals.plot(kind='bar', title='Total Amount by Type of Card')\n",
    "plt.xlabel('Type of Card')\n",
    "plt.ylabel('Total Amount')\n",
    "plt.grid()\n",
    "plt.show()\n"
   ],
   "id": "9af7355221debccd",
   "outputs": [
    {
     "data": {
      "text/plain": [
       "<Figure size 1000x600 with 1 Axes>"
      ],
      "image/png": "[encoded data removed]"
     },
     "metadata": {},
     "output_type": "display_data"
    }
   ],
   "execution_count": 128
  },
  {
   "metadata": {
    "ExecuteTime": {
     "end_time": "2025-01-25T22:49:31.275874Z",
     "start_time": "2025-01-25T22:49:31.258049Z"
    }
   },
   "cell_type": "code",
   "source": [
    "print(data['Type of Transaction'].head(10))\n",
    "print(data['Type of Transaction'].value_counts())\n"
   ],
   "id": "b2b84705882ebb3f",
   "outputs": [
    {
     "name": "stdout",
     "output_type": "stream",
     "text": [
      "0       POS\n",
      "1       POS\n",
      "2       POS\n",
      "3       POS\n",
      "4    Online\n",
      "5       POS\n",
      "6    Online\n",
      "7    Online\n",
      "8       ATM\n",
      "9       POS\n",
      "Name: Type of Transaction, dtype: object\n",
      "Type of Transaction\n",
      "Online    33481\n",
      "ATM       33274\n",
      "POS       33245\n",
      "Name: count, dtype: int64\n"
     ]
    }
   ],
   "execution_count": 129
  },
  {
   "metadata": {
    "ExecuteTime": {
     "end_time": "2025-01-25T22:49:31.339224Z",
     "start_time": "2025-01-25T22:49:31.330473Z"
    }
   },
   "cell_type": "code",
   "source": [
    "# Get the first 10 values from the 'Type of Transaction' column\n",
    "sample_values = outliers['Type of Transaction'].head(10)\n",
    "print(sample_values)\n"
   ],
   "id": "11976b0de2a7ca56",
   "outputs": [
    {
     "name": "stdout",
     "output_type": "stream",
     "text": [
      "Series([], Name: Type of Transaction, dtype: object)\n"
     ]
    }
   ],
   "execution_count": 130
  },
  {
   "metadata": {
    "ExecuteTime": {
     "end_time": "2025-01-25T22:49:31.402424Z",
     "start_time": "2025-01-25T22:49:31.370854Z"
    }
   },
   "cell_type": "code",
   "source": [
    "# Recreate the outliers DataFrame, including the 'Type of Transaction' column\n",
    "outliers = data[data['Z_Score'].abs() > 3]\n"
   ],
   "id": "f17ea1b4a1930724",
   "outputs": [],
   "execution_count": 131
  },
  {
   "metadata": {
    "ExecuteTime": {
     "end_time": "2025-01-25T22:49:31.437814Z",
     "start_time": "2025-01-25T22:49:31.429369Z"
    }
   },
   "cell_type": "code",
   "source": [
    "print(outliers['Type of Transaction'].head(10))\n",
    "print(outliers['Type of Transaction'].unique())\n",
    "\n"
   ],
   "id": "3725083747bdb741",
   "outputs": [
    {
     "name": "stdout",
     "output_type": "stream",
     "text": [
      "Series([], Name: Type of Transaction, dtype: object)\n",
      "[]\n"
     ]
    }
   ],
   "execution_count": 132
  },
  {
   "metadata": {
    "ExecuteTime": {
     "end_time": "2025-01-25T22:49:31.485273Z",
     "start_time": "2025-01-25T22:49:31.475786Z"
    }
   },
   "cell_type": "code",
   "source": "print(data[data['Z_Score'].abs() > 3].shape)\n",
   "id": "e64ba1bfdeff1c1b",
   "outputs": [
    {
     "name": "stdout",
     "output_type": "stream",
     "text": [
      "(0, 17)\n"
     ]
    }
   ],
   "execution_count": 133
  },
  {
   "metadata": {
    "ExecuteTime": {
     "end_time": "2025-01-25T22:49:31.534710Z",
     "start_time": "2025-01-25T22:49:31.517452Z"
    }
   },
   "cell_type": "code",
   "source": [
    "print(data['Z_Score'].describe())  # Summary statistics\n",
    "print(data['Z_Score'].head(10))   # First 10 Z-Score values\n"
   ],
   "id": "c701400682a297fd",
   "outputs": [
    {
     "name": "stdout",
     "output_type": "stream",
     "text": [
      "count    9.999400e+04\n",
      "mean    -1.474465e-17\n",
      "std      1.000000e+00\n",
      "min     -8.715476e-01\n",
      "25%     -7.743296e-01\n",
      "50%     -6.690100e-01\n",
      "75%      7.730574e-01\n",
      "max      2.328546e+00\n",
      "Name: Z_Score, dtype: float64\n",
      "0   -0.871548\n",
      "1    1.421178\n",
      "2   -0.871548\n",
      "3   -0.685213\n",
      "4   -0.174818\n",
      "5   -0.669010\n",
      "6    0.959392\n",
      "7    0.335576\n",
      "8   -0.596097\n",
      "9   -0.774330\n",
      "Name: Z_Score, dtype: float64\n"
     ]
    }
   ],
   "execution_count": 134
  },
  {
   "metadata": {
    "ExecuteTime": {
     "end_time": "2025-01-25T22:49:31.576608Z",
     "start_time": "2025-01-25T22:49:31.564819Z"
    }
   },
   "cell_type": "code",
   "source": [
    "outliers = data[data['Z_Score'].abs() > 2]\n",
    "print(outliers.shape)  # Check if outliers are now present\n"
   ],
   "id": "f66b5db385692f6c",
   "outputs": [
    {
     "name": "stdout",
     "output_type": "stream",
     "text": [
      "(5214, 17)\n"
     ]
    }
   ],
   "execution_count": 135
  },
  {
   "metadata": {
    "ExecuteTime": {
     "end_time": "2025-01-25T22:49:31.622203Z",
     "start_time": "2025-01-25T22:49:31.611364Z"
    }
   },
   "cell_type": "code",
   "source": [
    "print(outliers['Type of Transaction'].head(10))\n",
    "print(outliers['Type of Transaction'].unique())\n"
   ],
   "id": "c49be91686f5a915",
   "outputs": [
    {
     "name": "stdout",
     "output_type": "stream",
     "text": [
      "20     Online\n",
      "27     Online\n",
      "30     Online\n",
      "126       POS\n",
      "142       POS\n",
      "159    Online\n",
      "177    Online\n",
      "194       POS\n",
      "213       ATM\n",
      "242    Online\n",
      "Name: Type of Transaction, dtype: object\n",
      "['Online' 'POS' 'ATM']\n"
     ]
    }
   ],
   "execution_count": 136
  },
  {
   "metadata": {
    "ExecuteTime": {
     "end_time": "2025-01-25T22:49:33.531853Z",
     "start_time": "2025-01-25T22:49:33.294314Z"
    }
   },
   "cell_type": "code",
   "source": [
    "plt.figure(figsize=(10, 6))\n",
    "ax = sns.scatterplot(data=grouped, x='Date', y='Amount', hue='Type of Transaction', palette='viridis')\n",
    "plt.title('Grouped Outlier Transactions')\n",
    "plt.xlabel('Transaction Date')\n",
    "plt.ylabel('Total Transaction Amount')\n",
    "plt.xticks(rotation=45)\n",
    "\n",
    "# Add annotations\n",
    "for i in range(len(grouped)):\n",
    "    plt.text(x=grouped['Date'].iloc[i], y=grouped['Amount'].iloc[i] + 500,\n",
    "             s=f\"{int(grouped['Amount'].iloc[i])}\",\n",
    "             ha='center', fontsize=8)\n",
    "\n",
    "plt.grid()\n",
    "plt.show()\n"
   ],
   "id": "150876e1c63c3254",
   "outputs": [
    {
     "data": {
      "text/plain": [
       "<Figure size 1000x600 with 1 Axes>"
      ],
      "image/png": "[encoded data removed]"
     },
     "metadata": {},
     "output_type": "display_data"
    }
   ],
   "execution_count": 140
  },
  {
   "metadata": {
    "ExecuteTime": {
     "end_time": "2025-01-25T22:49:33.574653Z",
     "start_time": "2025-01-25T22:49:33.567595Z"
    }
   },
   "cell_type": "code",
   "source": [
    "outlier_percentage = (len(outliers) / len(data)) * 100\n",
    "print(f\"Outliers represent {outlier_percentage:.2f}% of the total data.\")\n"
   ],
   "id": "747843429a5d6e6d",
   "outputs": [
    {
     "name": "stdout",
     "output_type": "stream",
     "text": [
      "Outliers represent 5.21% of the total data.\n"
     ]
    }
   ],
   "execution_count": 141
  },
  {
   "metadata": {
    "ExecuteTime": {
     "end_time": "2025-01-25T22:49:33.643652Z",
     "start_time": "2025-01-25T22:49:33.623243Z"
    }
   },
   "cell_type": "code",
   "source": [
    "summary = outliers.groupby('Type of Transaction')['Amount'].agg(['mean', 'sum', 'count'])\n",
    "print(summary)\n"
   ],
   "id": "a9dd25434fd5f34b",
   "outputs": [
    {
     "name": "stdout",
     "output_type": "stream",
     "text": [
      "                           mean       sum  count\n",
      "Type of Transaction                             \n",
      "ATM                  379.948884  646673.0   1702\n",
      "Online               379.823430  671148.0   1767\n",
      "POS                  379.630372  662455.0   1745\n"
     ]
    }
   ],
   "execution_count": 142
  },
  {
   "metadata": {
    "ExecuteTime": {
     "end_time": "2025-01-25T22:49:39.848961Z",
     "start_time": "2025-01-25T22:49:33.701988Z"
    }
   },
   "cell_type": "code",
   "source": [
    "!pip install scikit-learn\n",
    "%pip install scikit-learn\n",
    "from sklearn.preprocessing import LabelEncoder\n",
    "\n",
    "encoder = LabelEncoder()\n",
    "data['Type of Transaction Encoded'] = encoder.fit_transform(data['Type of Transaction'])\n"
   ],
   "id": "1cabc65a3f5de96",
   "outputs": [
    {
     "name": "stdout",
     "output_type": "stream",
     "text": [
      "Requirement already satisfied: scikit-learn in c:\\users\\rahul\\pycharmmiscproject\\.venv\\lib\\site-packages (1.6.1)\n",
      "Requirement already satisfied: numpy>=1.19.5 in c:\\users\\rahul\\pycharmmiscproject\\.venv\\lib\\site-packages (from scikit-learn) (2.2.2)\n",
      "Requirement already satisfied: scipy>=1.6.0 in c:\\users\\rahul\\pycharmmiscproject\\.venv\\lib\\site-packages (from scikit-learn) (1.15.1)\n",
      "Requirement already satisfied: joblib>=1.2.0 in c:\\users\\rahul\\pycharmmiscproject\\.venv\\lib\\site-packages (from scikit-learn) (1.4.2)\n",
      "Requirement already satisfied: threadpoolctl>=3.1.0 in c:\\users\\rahul\\pycharmmiscproject\\.venv\\lib\\site-packages (from scikit-learn) (3.5.0)\n"
     ]
    },
    {
     "name": "stderr",
     "output_type": "stream",
     "text": [
      "\n",
      "[notice] A new release of pip is available: 23.2.1 -> 24.3.1\n",
      "[notice] To update, run: python.exe -m pip install --upgrade pip\n"
     ]
    },
    {
     "name": "stdout",
     "output_type": "stream",
     "text": [
      "Requirement already satisfied: scikit-learn in c:\\users\\rahul\\pycharmmiscproject\\.venv\\lib\\site-packages (1.6.1)\n",
      "Requirement already satisfied: numpy>=1.19.5 in c:\\users\\rahul\\pycharmmiscproject\\.venv\\lib\\site-packages (from scikit-learn) (2.2.2)\n",
      "Requirement already satisfied: scipy>=1.6.0 in c:\\users\\rahul\\pycharmmiscproject\\.venv\\lib\\site-packages (from scikit-learn) (1.15.1)\n",
      "Requirement already satisfied: joblib>=1.2.0 in c:\\users\\rahul\\pycharmmiscproject\\.venv\\lib\\site-packages (from scikit-learn) (1.4.2)\n",
      "Requirement already satisfied: threadpoolctl>=3.1.0 in c:\\users\\rahul\\pycharmmiscproject\\.venv\\lib\\site-packages (from scikit-learn) (3.5.0)\n",
      "Note: you may need to restart the kernel to use updated packages.\n"
     ]
    },
    {
     "name": "stderr",
     "output_type": "stream",
     "text": [
      "\n",
      "[notice] A new release of pip is available: 23.2.1 -> 24.3.1\n",
      "[notice] To update, run: python.exe -m pip install --upgrade pip\n"
     ]
    }
   ],
   "execution_count": 143
  },
  {
   "metadata": {
    "ExecuteTime": {
     "end_time": "2025-01-25T22:49:39.896790Z",
     "start_time": "2025-01-25T22:49:39.883315Z"
    }
   },
   "cell_type": "code",
   "source": [
    "from sklearn.preprocessing import StandardScaler\n",
    "\n",
    "scaler = StandardScaler()\n",
    "data['Amount Scaled'] = scaler.fit_transform(data[['Amount']])\n"
   ],
   "id": "b93ab659480762de",
   "outputs": [],
   "execution_count": 144
  },
  {
   "metadata": {
    "ExecuteTime": {
     "end_time": "2025-01-25T22:49:45.435812Z",
     "start_time": "2025-01-25T22:49:39.928713Z"
    }
   },
   "cell_type": "code",
   "source": [
    "from sklearn.ensemble import RandomForestClassifier\n",
    "from sklearn.model_selection import train_test_split\n",
    "\n",
    "# Define features and labels\n",
    "X = data[['Amount Scaled', 'Type of Transaction Encoded']]\n",
    "y = data['Fraud']  # Assuming 'Fraud' is a binary column\n",
    "\n",
    "# Split the data\n",
    "X_train, X_test, y_train, y_test = train_test_split(X, y, test_size=0.2, random_state=42)\n",
    "\n",
    "# Train a Random Forest Classifier\n",
    "model = RandomForestClassifier()\n",
    "model.fit(X_train, y_train)\n",
    "\n",
    "# Evaluate\n",
    "print(f\"Model Accuracy: {model.score(X_test, y_test):.2f}\")\n"
   ],
   "id": "40be580765e8eae9",
   "outputs": [
    {
     "name": "stdout",
     "output_type": "stream",
     "text": [
      "Model Accuracy: 0.93\n"
     ]
    }
   ],
   "execution_count": 145
  },
  {
   "metadata": {
    "ExecuteTime": {
     "end_time": "2025-01-25T22:49:45.889865Z",
     "start_time": "2025-01-25T22:49:45.468862Z"
    }
   },
   "cell_type": "code",
   "source": [
    "sns.boxplot(data=data, x='Fraud', y='Amount')\n",
    "plt.title('Distribution of Transaction Amounts by Fraud Status')\n",
    "plt.show()\n"
   ],
   "id": "1dbaaa0537f332e",
   "outputs": [
    {
     "data": {
      "text/plain": [
       "<Figure size 640x480 with 1 Axes>"
      ],
      "image/png": "[encoded data removed]"
     },
     "metadata": {},
     "output_type": "display_data"
    }
   ],
   "execution_count": 146
  },
  {
   "metadata": {
    "ExecuteTime": {
     "end_time": "2025-01-25T22:52:47.832514Z",
     "start_time": "2025-01-25T22:52:46.827887Z"
    }
   },
   "cell_type": "code",
   "source": "data.to_csv('cleaned_CreditCardData.csv', index=False)\n",
   "id": "a109aec26ee3cd0",
   "outputs": [],
   "execution_count": 147
  }
 ],
 "metadata": {
  "kernelspec": {
   "display_name": "Python 3",
   "language": "python",
   "name": "python3"
  },
  "language_info": {
   "codemirror_mode": {
    "name": "ipython",
    "version": 2
   },
   "file_extension": ".py",
   "mimetype": "text/x-python",
   "name": "python",
   "nbconvert_exporter": "python",
   "pygments_lexer": "ipython2",
   "version": "2.7.6"
  }
 },
 "nbformat": 4,
 "nbformat_minor": 5
}
